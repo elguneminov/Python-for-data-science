{
 "cells": [
  {
   "cell_type": "markdown",
   "metadata": {},
   "source": [
    "# Assignment 2\n",
    "\n",
    "From a given list of numbers, write a Python program to fetch the list of even numbers. Create a new list that stores only the even numbers from the given list. \n",
    "\n",
    "### Hint\n",
    "Attempt by using a for-loop along with an if statement to find out if the number is odd or even."
   ]
  },
  {
   "cell_type": "code",
   "execution_count": null,
   "metadata": {},
   "outputs": [],
   "source": [
    "numbers = [5,6,3,1,8,4,5,45,23,32,50,1,5,87,345,13,54]\n",
    "\n",
    "# Code here"
   ]
  },
  {
   "cell_type": "markdown",
   "metadata": {},
   "source": [
    "Now create a function that accepts the `numbers` list as input, and returns a list of only even numbers. Using this function, extract the even numbers from both the lists provided below."
   ]
  },
  {
   "cell_type": "code",
   "execution_count": null,
   "metadata": {},
   "outputs": [],
   "source": [
    "numbers1 = [5,6,3,1,8,4,5,45,23,32,50,1,5,87,345,13,54]\n",
    "numbers2 = [82,45,2,7,34,275,124,44,522,3,5,67,446,2,3]\n",
    "\n",
    "# Code here"
   ]
  },
  {
   "cell_type": "markdown",
   "metadata": {},
   "source": [
    "Once you have successfully implemented the above, try to find the even numbers without using a for-loop.\n",
    "\n",
    "**Hint:** Use a function called `filter()` offered by Python to filter through elements of a list based on a custom filteration logic"
   ]
  },
  {
   "cell_type": "code",
   "execution_count": null,
   "metadata": {},
   "outputs": [],
   "source": [
    "numbers = [5,6,3,1,8,4,5,45,23,32,50,1,5,87,345,13,54]\n",
    "\n",
    "# Code here"
   ]
  }
 ],
 "metadata": {
  "kernelspec": {
   "display_name": "Python 3",
   "language": "python",
   "name": "python3"
  },
  "language_info": {
   "codemirror_mode": {
    "name": "ipython",
    "version": 3
   },
   "file_extension": ".py",
   "mimetype": "text/x-python",
   "name": "python",
   "nbconvert_exporter": "python",
   "pygments_lexer": "ipython3",
   "version": "3.8.4"
  }
 },
 "nbformat": 4,
 "nbformat_minor": 4
}
