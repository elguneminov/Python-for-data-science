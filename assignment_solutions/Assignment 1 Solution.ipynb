{
 "cells": [
  {
   "cell_type": "markdown",
   "metadata": {},
   "source": [
    "# Assignment 1 Solution\n",
    "\n",
    "Write a program thats accepts a comma-separated sequence of numbers from user and generates and prints the following: \n",
    "- A list of numbers\n",
    "- A tuple of numbers\n",
    "\n",
    "### Hint\n",
    "* Use the function called `input()` to capture user input\n",
    "* Use the function `split(',')` on a string to split the string on `,`\n",
    "\n"
   ]
  },
  {
   "cell_type": "code",
   "execution_count": null,
   "metadata": {},
   "outputs": [],
   "source": [
    "values = input('Enter comma separated numbers:')\n",
    "\n",
    "# The split function gives us a list, so we have do nothing special here\n",
    "list = values.split(',')\n",
    "\n",
    "# Once we have the list, we can convert the list itself to a tuple\n",
    "tuple = tuple(list)\n",
    "\n",
    "print('List', list)\n",
    "print('Tuple', tuple)"
   ]
  }
 ],
 "metadata": {
  "kernelspec": {
   "display_name": "Python 3",
   "language": "python",
   "name": "python3"
  },
  "language_info": {
   "codemirror_mode": {
    "name": "ipython",
    "version": 3
   },
   "file_extension": ".py",
   "mimetype": "text/x-python",
   "name": "python",
   "nbconvert_exporter": "python",
   "pygments_lexer": "ipython3",
   "version": "3.8.4"
  }
 },
 "nbformat": 4,
 "nbformat_minor": 4
}
